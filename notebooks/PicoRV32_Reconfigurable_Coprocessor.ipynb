{
 "cells": [
  {
   "cell_type": "code",
   "execution_count": 11,
   "metadata": {},
   "outputs": [],
   "source": [
    "import pynq\n",
    "from pynq import GPIO"
   ]
  },
  {
   "cell_type": "code",
   "execution_count": 12,
   "metadata": {},
   "outputs": [],
   "source": [
    "from pynq import Overlay"
   ]
  },
  {
   "cell_type": "markdown",
   "metadata": {},
   "source": [
    "## Load the Processor"
   ]
  },
  {
   "cell_type": "code",
   "execution_count": 13,
   "metadata": {},
   "outputs": [],
   "source": [
    "from riscvonpynq.picorv32.axi.picorv32 import Overlay\n",
    "overlay = Overlay(\"/home/xilinx/jupyter_notebooks/GPCP/designs/build/axi/picorv32.bit\")"
   ]
  },
  {
   "cell_type": "markdown",
   "metadata": {},
   "source": [
    "## Select a Co-Processor"
   ]
  },
  {
   "cell_type": "code",
   "execution_count": 13,
   "metadata": {},
   "outputs": [],
   "source": [
    "overlay.pr_download(\"pr_0\", \"/home/xilinx/jupyter_notebooks/GPCP/designs/build/axi/partial/pr_0_cp_F_const.bit\")"
   ]
  },
  {
   "cell_type": "code",
   "execution_count": 10,
   "metadata": {},
   "outputs": [],
   "source": [
    "overlay.pr_download(\"pr_0\", \"/home/xilinx/jupyter_notebooks/GPCP/designs/build/axi/partial/pr_0_cp_0_const.bit\")"
   ]
  },
  {
   "cell_type": "code",
   "execution_count": 14,
   "metadata": {},
   "outputs": [],
   "source": [
    "# popcount co-processor\n",
    "overlay.pr_download(\"pr_0\", \"/home/xilinx/jupyter_notebooks/GPCP/designs/build/axi/partial/pr_0_cp_popcount.bit\")"
   ]
  },
  {
   "cell_type": "markdown",
   "metadata": {},
   "source": [
    "## Standard Implementation"
   ]
  },
  {
   "cell_type": "code",
   "execution_count": 18,
   "metadata": {},
   "outputs": [
    {
     "data": {
      "text/html": [
       "<pre>Compilation of program pop_c SUCCEEDED</pre>"
      ],
      "text/plain": [
       "<IPython.core.display.HTML object>"
      ]
     },
     "execution_count": 18,
     "metadata": {},
     "output_type": "execute_result"
    }
   ],
   "source": [
    "%%riscvc pop_c overlay.processor\n",
    "\n",
    "unsigned int pc(unsigned x, unsigned y) {\n",
    "    int c = 0;\n",
    "    for(; x!=0;x>>=1)\n",
    "        if(x&1)\n",
    "            c++;\n",
    "            \n",
    "    int q = 0;\n",
    "    for(; y!=0;y>>=1)\n",
    "        if(y&1)\n",
    "        q++;\n",
    "    return c+q;\n",
    "}\n",
    "\n",
    "\n",
    "int main(int argc, char ** argv) { \n",
    "    unsigned int x = 0xFFFFFFFF;\n",
    "    unsigned int y = 0xFFFFFFFF;\n",
    "    __asm__(\"rdcycle a0\");\n",
    "    register unsigned int start __asm__(\"a0\");\n",
    "    unsigned int pop = pc(x,y);\n",
    "    __asm__(\"rdcycle a1\");\n",
    "    register unsigned int end __asm__(\"a1\");\n",
    "    return end-start;\n",
    "}"
   ]
  },
  {
   "cell_type": "markdown",
   "metadata": {},
   "source": [
    "## Execute"
   ]
  },
  {
   "cell_type": "code",
   "execution_count": 20,
   "metadata": {},
   "outputs": [
    {
     "name": "stdout",
     "output_type": "stream",
     "text": [
      "6570\n"
     ]
    }
   ],
   "source": [
    "import numpy as np\n",
    "test_asm_arg = np.array([0], np.int32)\n",
    "retval = overlay.processor.run(pop_c, test_asm_arg)\n",
    "print(retval)"
   ]
  },
  {
   "cell_type": "markdown",
   "metadata": {},
   "source": [
    "## Hardware Accelerated Implementation"
   ]
  },
  {
   "cell_type": "code",
   "execution_count": 25,
   "metadata": {
    "scrolled": true
   },
   "outputs": [
    {
     "data": {
      "text/html": [
       "<pre>Compilation of program pop_c SUCCEEDED</pre>"
      ],
      "text/plain": [
       "<IPython.core.display.HTML object>"
      ]
     },
     "execution_count": 25,
     "metadata": {},
     "output_type": "execute_result"
    }
   ],
   "source": [
    "%%riscvc pop_c overlay.processor\n",
    "extern unsigned int hw_popcount(unsigned x, unsigned y);\n",
    "__asm__(\"hw_popcount:\\n \\\n",
    "        \\t .insn r 0x2B, 0, 0, a0, a0, a1\\n \\\n",
    "        \\t ret \\\n",
    "        \");\n",
    "\n",
    "int main(int argc, char ** argv) { \n",
    "    unsigned int x = 0xFFFFFFFF;\n",
    "    unsigned int y = 0xFFFFFFFF;\n",
    "    __asm__(\"rdcycle a0\");\n",
    "    register unsigned int start __asm__(\"a0\");\n",
    "    unsigned int pop = hw_popcount(x,y);\n",
    "    __asm__(\"rdcycle a1\");\n",
    "    register unsigned int end __asm__(\"a1\");\n",
    "    return end-start + pop;\n",
    "}"
   ]
  },
  {
   "cell_type": "markdown",
   "metadata": {},
   "source": [
    "## Execute"
   ]
  },
  {
   "cell_type": "code",
   "execution_count": 26,
   "metadata": {},
   "outputs": [
    {
     "name": "stdout",
     "output_type": "stream",
     "text": [
      "611\n"
     ]
    }
   ],
   "source": [
    "import numpy as np\n",
    "test_asm_arg = np.array([0], np.int32)\n",
    "retval = overlay.processor.run(pop_c, test_asm_arg)\n",
    "print(retval)"
   ]
  }
 ],
 "metadata": {
  "kernelspec": {
   "display_name": "Python 3",
   "language": "python",
   "name": "python3"
  },
  "language_info": {
   "codemirror_mode": {
    "name": "ipython",
    "version": 3
   },
   "file_extension": ".py",
   "mimetype": "text/x-python",
   "name": "python",
   "nbconvert_exporter": "python",
   "pygments_lexer": "ipython3",
   "version": "3.8.2"
  }
 },
 "nbformat": 4,
 "nbformat_minor": 2
}
